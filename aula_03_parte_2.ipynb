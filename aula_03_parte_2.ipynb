{
  "nbformat": 4,
  "nbformat_minor": 0,
  "metadata": {
    "colab": {
      "provenance": [],
      "authorship_tag": "ABX9TyNW74luCuEcZww9VT2Stw5n",
      "include_colab_link": true
    },
    "kernelspec": {
      "name": "python3",
      "display_name": "Python 3"
    },
    "language_info": {
      "name": "python"
    }
  },
  "cells": [
    {
      "cell_type": "markdown",
      "metadata": {
        "id": "view-in-github",
        "colab_type": "text"
      },
      "source": [
        "<a href=\"https://colab.research.google.com/github/geomour4/phyton/blob/main/aula_03_parte_2.ipynb\" target=\"_parent\"><img src=\"https://colab.research.google.com/assets/colab-badge.svg\" alt=\"Open In Colab\"/></a>"
      ]
    },
    {
      "cell_type": "code",
      "execution_count": 2,
      "metadata": {
        "colab": {
          "base_uri": "https://localhost:8080/"
        },
        "id": "6H_-b5MvEUSe",
        "outputId": "f141b7fd-2d95-49ab-ba3c-0cc61991130d"
      },
      "outputs": [
        {
          "output_type": "stream",
          "name": "stdout",
          "text": [
            "insira um numero:4\n",
            "O antecessor de 4 é 3\n"
          ]
        }
      ],
      "source": [
        "#primeira questão\n",
        "\n",
        "num = int(input(\"insira um numero:\"))\n",
        "antecessor = num - 1\n",
        "print(\"O antecessor de\", num, \"é\", antecessor)"
      ]
    },
    {
      "cell_type": "code",
      "source": [
        "#segunda questão\n",
        "\n",
        "base = int(input(\"insira a base do retângulo: \"))\n",
        "altura = int(input(\"insira a altura do retângulo: \"))\n",
        "\n",
        "area = base * altura\n",
        "\n",
        "print(\"A área do retângulo é:\", area)"
      ],
      "metadata": {
        "colab": {
          "base_uri": "https://localhost:8080/"
        },
        "id": "i4tqxGAjE1SJ",
        "outputId": "09ecabfd-ee2f-4365-f77c-a2c9cf82529c"
      },
      "execution_count": 5,
      "outputs": [
        {
          "output_type": "stream",
          "name": "stdout",
          "text": [
            "insira a base do retângulo: 12\n",
            "insira a altura do retângulo: 5\n",
            "A área do retângulo é: 60\n"
          ]
        }
      ]
    },
    {
      "cell_type": "code",
      "source": [
        "#terceira questão\n",
        "\n",
        "total_eleitores = int(input(\"insira o total de eleitores: \"))\n",
        "votos_brancos = int(input(\"insira o número de votos brancos: \"))\n",
        "votos_nulos = int(input(\"insira o número de votos nulos: \"))\n",
        "votos_validos = int(input(\"insira o número de votos válidos: \"))\n",
        "\n",
        "percent_brancos = (votos_brancos * 100) / total_eleitores\n",
        "percent_nulos = (votos_nulos * 100) / total_eleitores\n",
        "percent_validos = (votos_validos * 100) / total_eleitores\n",
        "\n",
        "print(\"porcentagem de votos brancos:\", percent_brancos, \"%\")\n",
        "print(\"porcentagem de votos nulos:\", percent_nulos, \"%\")\n",
        "print(\"porcentagem de votos válidos:\", percent_validos, \"%\")"
      ],
      "metadata": {
        "colab": {
          "base_uri": "https://localhost:8080/"
        },
        "id": "tIZNWYoGE1aX",
        "outputId": "333ae464-009c-4134-8a7f-facd56f3cb6c"
      },
      "execution_count": 4,
      "outputs": [
        {
          "output_type": "stream",
          "name": "stdout",
          "text": [
            "insira o total de eleitores: 150\n",
            "insira o número de votos brancos: 100\n",
            "insira o número de votos nulos: 20\n",
            "insira o número de votos válidos: 30\n",
            "Porcentagem de votos brancos: 66.66666666666667 %\n",
            "Porcentagem de votos nulos: 13.333333333333334 %\n",
            "Porcentagem de votos válidos: 20.0 %\n"
          ]
        }
      ]
    },
    {
      "cell_type": "code",
      "source": [
        "#quarta questão\n",
        "\n",
        "anos = int(input(\"insira a idade em anos: \"))\n",
        "meses = int(input(\"insira a idade em meses: \"))\n",
        "dias = int(input(\"insira a idade em dias: \"))\n",
        "\n",
        "total_dias = anos * 365 + meses * 30 + dias\n",
        "\n",
        "print(total_dias)"
      ],
      "metadata": {
        "colab": {
          "base_uri": "https://localhost:8080/"
        },
        "id": "YyyTViQEE1jf",
        "outputId": "29725fc3-b70f-4cf2-aa08-364d98eabcbf"
      },
      "execution_count": 3,
      "outputs": [
        {
          "output_type": "stream",
          "name": "stdout",
          "text": [
            "insira a idade em anos: 30\n",
            "insira a idade em meses: 6\n",
            "insira a idade em dias: 21\n",
            "11151\n"
          ]
        }
      ]
    },
    {
      "cell_type": "code",
      "source": [
        "#quinta questão\n",
        "\n",
        "def soma_imposto(taxa, custo):\n",
        "    return custo + custo * taxa // 100\n",
        "\n",
        "custo = int(input(\"insira o custo do item: \"))\n",
        "taxa = int(input(\"insira a taxa de imposto (%): \"))\n",
        "\n",
        "print(\"Valor com imposto:\", soma_imposto(taxa, custo))"
      ],
      "metadata": {
        "colab": {
          "base_uri": "https://localhost:8080/"
        },
        "id": "q3Bn4WYwE-af",
        "outputId": "db922f68-e065-4f4c-cd5c-06d4f336a1f4"
      },
      "execution_count": 10,
      "outputs": [
        {
          "output_type": "stream",
          "name": "stdout",
          "text": [
            "insira o custo do item: 10000\n",
            "insira a taxa de imposto (%): 35\n",
            "Valor com imposto: 13500\n"
          ]
        }
      ]
    },
    {
      "cell_type": "code",
      "source": [
        "#sexta questão\n",
        "\n",
        "valor = int(input(\"insira o valor da prestação: \"))\n",
        "dias = int(input(\"insira o número de dias em atraso: \"))\n",
        "\n",
        "if dias == 0:\n",
        "    valor_a_pagar = valor\n",
        "else:\n",
        "    valor_a_pagar = valor + valor * 3 // 100 + valor * dias // 1000\n",
        "\n",
        "print(\"Valor a pagar:\", valor_a_pagar)\n",
        "\n",
        "print(\"Total de prestações pagas: 1\")\n",
        "print(\"Valor total recebido:\", valor_a_pagar)"
      ],
      "metadata": {
        "colab": {
          "base_uri": "https://localhost:8080/"
        },
        "id": "OeANb6QoKiNw",
        "outputId": "71f2af75-c4de-4f1b-b63d-334ec9b676b8"
      },
      "execution_count": 9,
      "outputs": [
        {
          "output_type": "stream",
          "name": "stdout",
          "text": [
            "insira o valor da prestação: 45000\n",
            "insira o número de dias em atraso: 60\n",
            "Valor a pagar: 49050\n",
            "Total de prestações pagas: 1\n",
            "Valor total recebido: 49050\n"
          ]
        }
      ]
    }
  ]
}