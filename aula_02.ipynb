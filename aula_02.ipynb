{
  "nbformat": 4,
  "nbformat_minor": 0,
  "metadata": {
    "colab": {
      "provenance": [],
      "authorship_tag": "ABX9TyPSxAtEOrpbczkDf8YqLsMH",
      "include_colab_link": true
    },
    "kernelspec": {
      "name": "python3",
      "display_name": "Python 3"
    },
    "language_info": {
      "name": "python"
    }
  },
  "cells": [
    {
      "cell_type": "markdown",
      "metadata": {
        "id": "view-in-github",
        "colab_type": "text"
      },
      "source": [
        "<a href=\"https://colab.research.google.com/github/geomour4/phyton/blob/main/aula_02.ipynb\" target=\"_parent\"><img src=\"https://colab.research.google.com/assets/colab-badge.svg\" alt=\"Open In Colab\"/></a>"
      ]
    },
    {
      "cell_type": "code",
      "execution_count": 7,
      "metadata": {
        "colab": {
          "base_uri": "https://localhost:8080/"
        },
        "id": "4ij0ip9RPNzn",
        "outputId": "bb7a3775-8eb8-4b33-93bc-c921243c70c9"
      },
      "outputs": [
        {
          "output_type": "stream",
          "name": "stdout",
          "text": [
            "informe o valor do arroz:7\n",
            "Arroz abaixo da média nacional\n",
            "informe o valor do feijão:13\n",
            "Feijão acima da média nacional\n",
            "informe o valor da carne:40\n",
            "Carne acima da média nacional\n",
            "informe o valor do macarrão:4\n",
            "Macarrão abaixo da média nacional\n"
          ]
        }
      ],
      "source": [
        "#primeira questão\n",
        "media_arroz = 9\n",
        "media_feijao = 12\n",
        "media_carne = 30\n",
        "media_macarrao = 5\n",
        "\n",
        "arroz = int(input(\"informe o valor do arroz:\"))\n",
        "if arroz > media_arroz:\n",
        "    print(\"Arroz acima da média nacional\")\n",
        "else:\n",
        "    print(\"Arroz abaixo da média nacional\")\n",
        "\n",
        "feijao = int(input(\"informe o valor do feijão:\"))\n",
        "if feijao > media_feijao:\n",
        "    print(\"Feijão acima da média nacional\")\n",
        "else:\n",
        "    print(\"Feijão abaixo da média nacional\")\n",
        "\n",
        "carne = int(input(\"informe o valor da carne:\"))\n",
        "if carne > media_carne:\n",
        "    print(\"Carne acima da média nacional\")\n",
        "else:\n",
        "    print(\"Carne abaixo da média nacional\")\n",
        "\n",
        "macarrao = int(input(\"informe o valor do macarrão:\"))\n",
        "if macarrao > media_macarrao:\n",
        "    print(\"Macarrão acima da média nacional\")\n",
        "else:\n",
        "    print(\"Macarrão abaixo da média nacional\")"
      ]
    },
    {
      "cell_type": "code",
      "source": [
        "#segunda questão\n",
        "num = int(input(\"Digite um número inteiro: \"))\n",
        "if num % 2 == 0:\n",
        "    print(\"O número é par\")\n",
        "else:\n",
        "    print(\"O número é ímpar\")\n",
        "if num > 0:\n",
        "    print(\"O número é positivo\")\n",
        "elif num < 0:\n",
        "    print(\"O número é negativo\")\n",
        "else:\n",
        "    print(\"O número é zero\")"
      ],
      "metadata": {
        "id": "L2O_-TnFQ80R",
        "colab": {
          "base_uri": "https://localhost:8080/"
        },
        "outputId": "82ce6e88-620d-40eb-f424-de1d70e0ba6e"
      },
      "execution_count": 8,
      "outputs": [
        {
          "output_type": "stream",
          "name": "stdout",
          "text": [
            "Digite um número inteiro: 2\n",
            "O número é par\n",
            "O número é positivo\n"
          ]
        }
      ]
    },
    {
      "cell_type": "code",
      "source": [
        "#terceira questão\n",
        "nota = 10\n",
        "if nota>=7:\n",
        "  print (\"aprovado com louvor!\")\n",
        "else:\n",
        "  print (\"reprovado!\")\n",
        "  nota = 7\n",
        "if nota>=7:\n",
        "  print (\"aprovado!\")\n",
        "else:\n",
        "  print (\"reprovado!\")\n",
        "nota = 5\n",
        "if nota>=7:\n",
        "  print (\"aprovado!\")\n",
        "else:\n",
        "  print (\"reprovado!\")\n"
      ],
      "metadata": {
        "colab": {
          "base_uri": "https://localhost:8080/"
        },
        "id": "s0WwK7kFRDgA",
        "outputId": "1c6f0286-24a0-4126-ebd3-617398c611cd"
      },
      "execution_count": null,
      "outputs": [
        {
          "output_type": "stream",
          "name": "stdout",
          "text": [
            "aprovado com louvor!\n",
            "aprovado!\n",
            "reprovado!\n"
          ]
        }
      ]
    },
    {
      "cell_type": "code",
      "source": [
        "#quarta questão\n",
        "fahrenheit = int(input(\"Digite a temperatura em Fahrenheit: \"))\n",
        "celsius = int(5 * (fahrenheit - 32) / 9)\n",
        "print(\"Temperatura em Fahrenheit:\", fahrenheit)\n",
        "print(\"Temperatura em Celsius:\", celsius)"
      ],
      "metadata": {
        "id": "ZtsncxSPRJbh",
        "colab": {
          "base_uri": "https://localhost:8080/"
        },
        "outputId": "d5114cc5-957e-4e4a-c4ce-e4502d58e704"
      },
      "execution_count": 9,
      "outputs": [
        {
          "output_type": "stream",
          "name": "stdout",
          "text": [
            "Digite a temperatura em Fahrenheit: 80\n",
            "Temperatura em Fahrenheit: 80\n",
            "Temperatura em Celsius: 26\n"
          ]
        }
      ]
    },
    {
      "cell_type": "code",
      "source": [
        "#quinta questão"
      ],
      "metadata": {
        "id": "Ejf5qbU_bquY"
      },
      "execution_count": null,
      "outputs": []
    },
    {
      "cell_type": "code",
      "source": [
        "#sexta questão"
      ],
      "metadata": {
        "id": "vx49O4Q-RL_y"
      },
      "execution_count": null,
      "outputs": []
    },
    {
      "cell_type": "code",
      "source": [
        "#setima questão\n",
        "vendas = int(input(\"Digite o valor projetado de vendas da empresa: R$ \"))\n",
        "lucro = vendas * 23 / 100\n",
        "\n",
        "print(\"O lucro anual da empresa será: R$ \", lucro)"
      ],
      "metadata": {
        "colab": {
          "base_uri": "https://localhost:8080/"
        },
        "id": "atBlV_dfbx7n",
        "outputId": "351ae7ba-5034-4a43-ef86-6d4028da3c57"
      },
      "execution_count": 21,
      "outputs": [
        {
          "output_type": "stream",
          "name": "stdout",
          "text": [
            "Digite o valor projetado de vendas da empresa: R$ 23000\n",
            "O lucro anual da empresa será: R$  5290.0\n"
          ]
        }
      ]
    },
    {
      "cell_type": "code",
      "source": [
        "#oitava questão\n",
        "num = int(input(\"informe um número inteiro: \"))\n",
        "primo = True\n",
        "\n",
        "if num <= 1:\n",
        "    primo = False\n",
        "elif num == 2 or num == 3 or num == 5 or num == 7:\n",
        "    primo = True\n",
        "elif num == 4 or num == 6 or num == 8 or num == 9 or num == 10:\n",
        "    primo = False\n",
        "else:\n",
        "    print(\"Número maior que 10: não verificado nesta versão.\")\n",
        "    primo = False\n",
        "if primo:\n",
        "    print(num, \"é um numero primo.\")\n",
        "else:\n",
        "    print(num, \"não é um numero primo.\")"
      ],
      "metadata": {
        "colab": {
          "base_uri": "https://localhost:8080/"
        },
        "id": "GHrSOPezbyFH",
        "outputId": "5ac8d00c-12fb-413a-fb71-4f1c64839b34"
      },
      "execution_count": 16,
      "outputs": [
        {
          "output_type": "stream",
          "name": "stdout",
          "text": [
            "informe um número inteiro: 9\n",
            "9 não é um numero primo.\n"
          ]
        }
      ]
    },
    {
      "cell_type": "code",
      "source": [
        "#nona questão\n",
        "num = int(input(\"informe um número inteiro: \"))\n",
        "fatorial = 1\n",
        "if num >= 1:\n",
        "    fatorial = 1 * 2\n",
        "if num >= 2:\n",
        "    fatorial = 1 * 2 * 3\n",
        "if num >= 3:\n",
        "    fatorial = 1 * 2 * 3 * 4\n",
        "\n",
        "print(\"O fatorial de\", num, \"é:\", fatorial)\n"
      ],
      "metadata": {
        "colab": {
          "base_uri": "https://localhost:8080/"
        },
        "id": "MB1Pu3BRb5Fv",
        "outputId": "75b6b538-c61d-4a70-874e-8fb659b2622d"
      },
      "execution_count": 10,
      "outputs": [
        {
          "output_type": "stream",
          "name": "stdout",
          "text": [
            "informe um número inteiro: 5\n",
            "O fatorial de 5 é: 24\n"
          ]
        }
      ]
    },
    {
      "cell_type": "code",
      "source": [
        "#decima questão\n",
        "valor_original = int(input(\"informe o valor do produto: R$ \"))\n",
        "desconto = int(input(\"informe a porcentagem de desconto (%): \"))\n",
        "\n",
        "preco_final = valor_original - (valor_original * desconto / 100)\n",
        "\n",
        "print(\"Valor original: R$\", valor_original)\n",
        "print(\"Desconto:\", desconto, \"%\")\n",
        "print(\"Preço final: R$\", preco_final)"
      ],
      "metadata": {
        "colab": {
          "base_uri": "https://localhost:8080/"
        },
        "id": "LGtnrm-Pb7Mf",
        "outputId": "3caf06ac-fd1a-4c0d-8a5e-442ad79f0b72"
      },
      "execution_count": 17,
      "outputs": [
        {
          "output_type": "stream",
          "name": "stdout",
          "text": [
            "informe o valor do produto: R$ 39\n",
            "informe a porcentagem de desconto (%): 10\n",
            "Valor original: R$ 39\n",
            "Desconto: 10 %\n",
            "Preço final: R$ 35.1\n"
          ]
        }
      ]
    },
    {
      "cell_type": "code",
      "source": [
        "#decima primeira questão\n",
        "horas = int(input(\"informe o tempo em horas: \"))\n",
        "minutos = horas * 60\n",
        "segundos = horas * 3600\n",
        "\n",
        "print(horas, \"hora(s) equivalem a\", minutos, \"minuto(s) e\", segundos, \"segundo(s).\")"
      ],
      "metadata": {
        "colab": {
          "base_uri": "https://localhost:8080/"
        },
        "id": "4AFPFAUNcLpf",
        "outputId": "75b88610-53f9-4867-835c-0cc9f0debfa7"
      },
      "execution_count": 18,
      "outputs": [
        {
          "output_type": "stream",
          "name": "stdout",
          "text": [
            "informe o tempo em horas: 12\n",
            "12 hora(s) equivalem a 720 minuto(s) e 43200 segundo(s).\n"
          ]
        }
      ]
    },
    {
      "cell_type": "code",
      "source": [
        "#decima segunda questão\n"
      ],
      "metadata": {
        "id": "OboGcikdcL4n"
      },
      "execution_count": null,
      "outputs": []
    },
    {
      "cell_type": "code",
      "source": [
        "#decima terceira questão\n",
        "num1 = int(input(\"informe o primeiro número: \"))\n",
        "num2 = int(input(\"informe o segundo número: \"))\n",
        "num3 = int(input(\"informe o terceiro número: \"))\n",
        "menor = meio = maior = 0\n",
        "if num1 <= num2 and num1 <= num3:\n",
        "    menor = num1\n",
        "    if num2 <= num3:\n",
        "        meio = num2\n",
        "        maior = num3\n",
        "    else:\n",
        "        meio = num3\n",
        "        maior = num2\n",
        "elif num2 <= num1 and num2 <= num3:\n",
        "    menor = num2\n",
        "    if num1 <= num3:\n",
        "        meio = num1\n",
        "        maior = num3\n",
        "    else:\n",
        "        meio = num3\n",
        "        maior = num1\n",
        "else:\n",
        "    menor = num3\n",
        "    if num1 <= num2:\n",
        "        meio = num1\n",
        "        maior = num2\n",
        "    else:\n",
        "        meio = num2\n",
        "        maior = num1\n",
        "print(\"Números em ordem crescente:\", menor, meio, maior)"
      ],
      "metadata": {
        "colab": {
          "base_uri": "https://localhost:8080/"
        },
        "id": "m1Hqr_jDcV0v",
        "outputId": "bf929721-aeab-4c8f-cb4e-05692451f6a7"
      },
      "execution_count": 19,
      "outputs": [
        {
          "output_type": "stream",
          "name": "stdout",
          "text": [
            "informe o primeiro número: 35\n",
            "informe o segundo número: 21\n",
            "informe o terceiro número: 33\n",
            "Números em ordem crescente: 21 33 35\n"
          ]
        }
      ]
    },
    {
      "cell_type": "code",
      "source": [
        "#decima quarta questão"
      ],
      "metadata": {
        "id": "l4nodT0JcWAm"
      },
      "execution_count": null,
      "outputs": []
    }
  ]
}