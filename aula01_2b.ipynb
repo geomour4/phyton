{
  "nbformat": 4,
  "nbformat_minor": 0,
  "metadata": {
    "colab": {
      "provenance": [],
      "authorship_tag": "ABX9TyMbQX7syp9Xc59R/eNfUPrw",
      "include_colab_link": true
    },
    "kernelspec": {
      "name": "python3",
      "display_name": "Python 3"
    },
    "language_info": {
      "name": "python"
    }
  },
  "cells": [
    {
      "cell_type": "markdown",
      "metadata": {
        "id": "view-in-github",
        "colab_type": "text"
      },
      "source": [
        "<a href=\"https://colab.research.google.com/github/geomour4/phyton/blob/main/aula01_2b.ipynb\" target=\"_parent\"><img src=\"https://colab.research.google.com/assets/colab-badge.svg\" alt=\"Open In Colab\"/></a>"
      ]
    },
    {
      "cell_type": "code",
      "execution_count": 1,
      "metadata": {
        "colab": {
          "base_uri": "https://localhost:8080/"
        },
        "id": "boosE3PqRGWl",
        "outputId": "71f7f852-73f8-4a9b-90fc-0ae4d64f6fcd"
      },
      "outputs": [
        {
          "output_type": "stream",
          "name": "stdout",
          "text": [
            "olá, mundo!\n"
          ]
        }
      ],
      "source": [
        "print (\"olá, mundo!\")"
      ]
    },
    {
      "cell_type": "markdown",
      "source": [
        "variaveis em phyton"
      ],
      "metadata": {
        "id": "oLvHGda6Sc0O"
      }
    },
    {
      "cell_type": "code",
      "source": [
        "nome = \"geovana\"\n",
        "idade = 16\n",
        "print (\"meu nome é\", nome, \"e tenho\", idade, \"anos\")"
      ],
      "metadata": {
        "colab": {
          "base_uri": "https://localhost:8080/"
        },
        "id": "Rs_pNFrZSikm",
        "outputId": "2dff5973-6f3d-4345-a93c-9620661278c9"
      },
      "execution_count": 3,
      "outputs": [
        {
          "output_type": "stream",
          "name": "stdout",
          "text": [
            "meu nome é geovana e tenho 16 anos\n"
          ]
        }
      ]
    },
    {
      "cell_type": "code",
      "source": [
        "#entrada de dados\n",
        "nome = input (\"qual o seu nome?\")\n",
        "print (\"bem-vindo(a),\", nome)"
      ],
      "metadata": {
        "colab": {
          "base_uri": "https://localhost:8080/"
        },
        "id": "GDys2cHaTgYt",
        "outputId": "96ed93f2-abca-4e20-f1ec-444fa1365d47"
      },
      "execution_count": 4,
      "outputs": [
        {
          "output_type": "stream",
          "name": "stdout",
          "text": [
            "qual o seu nome?geovana\n",
            "bem-vindo(a), geovana\n"
          ]
        }
      ]
    },
    {
      "cell_type": "code",
      "source": [
        "#estruturas condicionais simples\n",
        "nota = 7\n",
        "if nota>=6:\n",
        "  print (\"aprovado!\")\n",
        "else:\n",
        "  print (\"reprovado!\")"
      ],
      "metadata": {
        "colab": {
          "base_uri": "https://localhost:8080/"
        },
        "id": "xtfVnS67UKWY",
        "outputId": "7c116f8e-e4e7-489d-ec4c-36e5b20cdf0c"
      },
      "execution_count": 5,
      "outputs": [
        {
          "output_type": "stream",
          "name": "stdout",
          "text": [
            "aprovado!\n"
          ]
        }
      ]
    },
    {
      "cell_type": "code",
      "source": [
        "v1 = input (\"entre com o valor 1\")\n",
        "v1 = int(v1)\n",
        "v2 = input (\"entre com o valor 2\")\n",
        "v2 = int(v2)"
      ],
      "metadata": {
        "colab": {
          "base_uri": "https://localhost:8080/"
        },
        "id": "1pPNmzruU2J4",
        "outputId": "0e46fcf6-039d-41b7-c859-26ff379c3535"
      },
      "execution_count": 10,
      "outputs": [
        {
          "name": "stdout",
          "output_type": "stream",
          "text": [
            "entre com o valor 112\n",
            "entre com o valor 243\n"
          ]
        }
      ]
    },
    {
      "cell_type": "code",
      "source": [
        "#operações matematicas\n",
        "a = 10\n",
        "b = 5\n",
        "print (\"soma:\", a + b)\n",
        "print (\"subtração\", a - b)\n",
        "print (\"multiplicação\", a * b)\n",
        "print (\"divisão\", a / b)"
      ],
      "metadata": {
        "colab": {
          "base_uri": "https://localhost:8080/"
        },
        "id": "YDgAuyzDWcX2",
        "outputId": "5a5e8c35-c7a8-41f3-8551-8bfcf98154b8"
      },
      "execution_count": 11,
      "outputs": [
        {
          "output_type": "stream",
          "name": "stdout",
          "text": [
            "soma: 15\n",
            "subtração 5\n",
            "multiplicação 50\n",
            "divisão 2.0\n"
          ]
        }
      ]
    }
  ]
}